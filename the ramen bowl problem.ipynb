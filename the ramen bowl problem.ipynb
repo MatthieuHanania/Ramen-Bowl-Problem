{
 "cells": [
  {
   "cell_type": "code",
   "execution_count": 55,
   "metadata": {},
   "outputs": [
    {
     "name": "stdout",
     "output_type": "stream",
     "text": [
      "Average number of circles with the calculated probabilities, the for n = 100 noodles: 3\n",
      "Average number of circles with the random simulation, for n = 100 noodles: 3\n"
     ]
    }
   ],
   "source": [
    "import random\n",
    "# First method : using the probabilities calculated\n",
    "\n",
    "def with_calculted_probabilities(n):\n",
    "    E=1\n",
    "    for i in range(2,n+1):\n",
    "        p = 1/(2*i-1)\n",
    "        E = p + E\n",
    "    \n",
    "    return E\n",
    "\n",
    "\n",
    "# Second method : Pick two random ends, and see if they belong to the same noodle\n",
    "def n_random_noodle(nb_noodles):\n",
    "    cirles=0\n",
    "\n",
    "    # Connecting two noodles together results in a single noodle\n",
    "    while nb_noodles >0:\n",
    "\n",
    "        ends_1,end_2 = random.sample(range(2*nb_noodles), 2)\n",
    "        nb_noodles-=1\n",
    "\n",
    "        # Drawn ends are in the same noodle if their even part is the same (0 and 1, 1 and 2, ...)\n",
    "        if ends_1//2 == end_2//2:\n",
    "            cirles+=1\n",
    "    return cirles    \n",
    "\n",
    "\n",
    "def simulation(n,simulations,function):\n",
    "    total_circles=0\n",
    "    for _ in range(simulations):\n",
    "        total_circles+= function(n)\n",
    "    return total_circles/simulations\n",
    "\n",
    "\n",
    "n_noodles=100\n",
    "simulations=1000\n",
    "\n",
    "average_number_of_circles = simulation(n_noodles,simulations,with_calculted_probabilities)\n",
    "print(f\"Average number of circles with the calculated probabilities, the for n = {n_noodles} noodles: {round(average_number_of_circles)}\")\n",
    "\n",
    "average_number_of_circles = simulation(n_noodles,simulations,n_random_noodle)\n",
    "print(f\"Average number of circles with the random simulation, for n = {n_noodles} noodles: {round(average_number_of_circles)}\")\n"
   ]
  }
 ],
 "metadata": {
  "kernelspec": {
   "display_name": "Python 3",
   "language": "python",
   "name": "python3"
  },
  "language_info": {
   "codemirror_mode": {
    "name": "ipython",
    "version": 3
   },
   "file_extension": ".py",
   "mimetype": "text/x-python",
   "name": "python",
   "nbconvert_exporter": "python",
   "pygments_lexer": "ipython3",
   "version": "3.11.9"
  }
 },
 "nbformat": 4,
 "nbformat_minor": 2
}
