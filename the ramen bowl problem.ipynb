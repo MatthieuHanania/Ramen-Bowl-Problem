{
 "cells": [
  {
   "cell_type": "code",
   "execution_count": 70,
   "metadata": {},
   "outputs": [
    {
     "name": "stdout",
     "output_type": "stream",
     "text": [
      "For 100 noodles: \n",
      "- Average number of circles with the calculated expectation: 3.284 (3)\n",
      "- Average number of circles for after 1000 random simulations: 3.263 (3)\n"
     ]
    }
   ],
   "source": [
    "import random\n",
    "# First method : using the probabilities calculated\n",
    "\n",
    "def with_calculated_expectation(n):\n",
    "    sum = 0\n",
    "    for k in range(1,n+1):\n",
    "        sum += 1/(2*k-1)\n",
    "    return sum\n",
    "\n",
    "\n",
    "# Second method : Pick two random ends, and see if they belong to the same noodle\n",
    "def n_random_noodle(nb_noodles):\n",
    "    cirles=0\n",
    "\n",
    "    # Connecting two noodles together results in a single noodle\n",
    "    while nb_noodles >0:\n",
    "\n",
    "        ends_1,end_2 = random.sample(range(2*nb_noodles), 2)\n",
    "        nb_noodles-=1\n",
    "\n",
    "        # Drawn ends are in the same noodle if their even part is the same (0 and 1, 1 and 2, ...)\n",
    "        if ends_1//2 == end_2//2:\n",
    "            cirles+=1\n",
    "    return cirles    \n",
    "\n",
    "\n",
    "def simulation(n,simulations):\n",
    "    total_circles=0\n",
    "    for _ in range(simulations):\n",
    "        total_circles+= n_random_noodle(n)\n",
    "    return total_circles/simulations\n",
    "\n",
    "\n",
    "n_noodles=100\n",
    "simulations=1000\n",
    "\n",
    "print(f\"For {n_noodles} noodles: \")\n",
    "\n",
    "average_number_of_circles = with_calculated_expectation(n_noodles)\n",
    "print(f\"- Average number of circles with the calculated expectation: {average_number_of_circles:.3f} ({round(average_number_of_circles)})\")\n",
    "\n",
    "average_number_of_circles = simulation(n_noodles,simulations)\n",
    "print(f\"- Average number of circles for after {simulations} random simulations: {average_number_of_circles} ({round(average_number_of_circles)})\")\n",
    "\n"
   ]
  }
 ],
 "metadata": {
  "kernelspec": {
   "display_name": "Python 3",
   "language": "python",
   "name": "python3"
  },
  "language_info": {
   "codemirror_mode": {
    "name": "ipython",
    "version": 3
   },
   "file_extension": ".py",
   "mimetype": "text/x-python",
   "name": "python",
   "nbconvert_exporter": "python",
   "pygments_lexer": "ipython3",
   "version": "3.11.9"
  }
 },
 "nbformat": 4,
 "nbformat_minor": 2
}
